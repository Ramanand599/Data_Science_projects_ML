{
 "cells": [
  {
   "cell_type": "code",
   "execution_count": 3,
   "metadata": {},
   "outputs": [
    {
     "name": "stdout",
     "output_type": "stream",
     "text": [
      "[[-1.44710717  0.97598911 -0.44042221 -0.91119211 -0.50874702  1.33816354]]\n",
      "Carges: {1349.3953554448753}\n"
     ]
    },
    {
     "name": "stderr",
     "output_type": "stream",
     "text": [
      "C:\\Users\\raman\\AppData\\Roaming\\Python\\Python37\\site-packages\\sklearn\\base.py:451: UserWarning: X does not have valid feature names, but StandardScaler was fitted with feature names\n",
      "  \"X does not have valid feature names, but\"\n"
     ]
    }
   ],
   "source": [
    "import numpy as np\n",
    "import pickle\n",
    "\n",
    "#Loading the scaler object\n",
    "with open(\"scaler.pkl\",\"rb\") as scaler_file:\n",
    "    loaded_scaler=pickle.load(scaler_file)\n",
    "with open(\"rf.pkl\",\"rb\") as rf_file:\n",
    "    loaded_rf=pickle.load(rf_file)\n",
    "    \n",
    "# predicction on the new data\n",
    "input_data=(19,1,27.90,0,0,3)\n",
    "#changing the input data into into numpy array\n",
    "input_data_as_numpy_array=np.array(input_data)\n",
    "# reshaping the numpy array into 2D  for instance(1,n_features)\n",
    "input_data_reshape=input_data_as_numpy_array.reshape(1,-1)\n",
    "\n",
    "## Standardrize the input data\n",
    "std_data=loaded_scaler.transform(input_data_reshape)\n",
    "print(std_data)\n",
    "\n",
    "# making the prediction on the basis of best model\n",
    "prediction=loaded_rf.predict(std_data)\n",
    "print(\"Carges:\",set(prediction))"
   ]
  },
  {
   "cell_type": "code",
   "execution_count": null,
   "metadata": {},
   "outputs": [],
   "source": []
  }
 ],
 "metadata": {
  "kernelspec": {
   "display_name": "venv1",
   "language": "python",
   "name": "venv1"
  },
  "language_info": {
   "codemirror_mode": {
    "name": "ipython",
    "version": 3
   },
   "file_extension": ".py",
   "mimetype": "text/x-python",
   "name": "python",
   "nbconvert_exporter": "python",
   "pygments_lexer": "ipython3",
   "version": "3.7.6"
  }
 },
 "nbformat": 4,
 "nbformat_minor": 4
}
